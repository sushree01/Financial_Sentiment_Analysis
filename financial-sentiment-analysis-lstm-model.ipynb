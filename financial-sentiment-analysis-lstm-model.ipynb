{
 "cells": [
  {
   "cell_type": "markdown",
   "id": "5e9dca0f",
   "metadata": {},
   "source": [
    "## 1.Importing the Required Libraries"
   ]
  },
  {
   "cell_type": "code",
   "execution_count": 86,
   "id": "866864f0",
   "metadata": {
    "execution": {
     "iopub.execute_input": "2022-12-05T16:43:28.215855Z",
     "iopub.status.busy": "2022-12-05T16:43:28.215493Z",
     "iopub.status.idle": "2022-12-05T16:43:28.221736Z",
     "shell.execute_reply": "2022-12-05T16:43:28.220591Z",
     "shell.execute_reply.started": "2022-12-05T16:43:28.215826Z"
    }
   },
   "outputs": [],
   "source": [
    "import numpy as np\n",
    "import pandas as pd\n",
    "import matplotlib.pyplot as plt\n",
    "import seaborn as sns"
   ]
  },
  {
   "cell_type": "code",
   "execution_count": 87,
   "id": "3ffbf404",
   "metadata": {
    "execution": {
     "iopub.execute_input": "2022-12-05T16:43:28.224157Z",
     "iopub.status.busy": "2022-12-05T16:43:28.223828Z",
     "iopub.status.idle": "2022-12-05T16:43:28.233676Z",
     "shell.execute_reply": "2022-12-05T16:43:28.232418Z",
     "shell.execute_reply.started": "2022-12-05T16:43:28.224126Z"
    },
    "id": "d291ae4d"
   },
   "outputs": [],
   "source": [
    "import nltk\n",
    "import re\n",
    "import string"
   ]
  },
  {
   "cell_type": "code",
   "execution_count": 88,
   "id": "cfd5afdf",
   "metadata": {
    "colab": {
     "base_uri": "https://localhost:8080/"
    },
    "execution": {
     "iopub.execute_input": "2022-12-05T16:43:28.235383Z",
     "iopub.status.busy": "2022-12-05T16:43:28.235047Z",
     "iopub.status.idle": "2022-12-05T16:43:28.247843Z",
     "shell.execute_reply": "2022-12-05T16:43:28.247030Z",
     "shell.execute_reply.started": "2022-12-05T16:43:28.235354Z"
    },
    "id": "CNEuXrEa2Bd6",
    "outputId": "a5cb32c8-c47c-42f0-eaba-f02c55ab13e2"
   },
   "outputs": [
    {
     "name": "stderr",
     "output_type": "stream",
     "text": [
      "[nltk_data] Downloading package punkt to /usr/share/nltk_data...\n",
      "[nltk_data]   Package punkt is already up-to-date!\n",
      "[nltk_data] Downloading package wordnet to /usr/share/nltk_data...\n",
      "[nltk_data]   Package wordnet is already up-to-date!\n",
      "[nltk_data] Downloading package omw-1.4 to /usr/share/nltk_data...\n",
      "[nltk_data]   Package omw-1.4 is already up-to-date!\n"
     ]
    },
    {
     "data": {
      "text/plain": [
       "True"
      ]
     },
     "execution_count": 88,
     "metadata": {},
     "output_type": "execute_result"
    }
   ],
   "source": [
    " nltk.download('punkt')\n",
    " nltk.download('wordnet')\n",
    " nltk.download('omw-1.4')"
   ]
  },
  {
   "cell_type": "code",
   "execution_count": 89,
   "id": "3eaa527f",
   "metadata": {
    "execution": {
     "iopub.execute_input": "2022-12-05T16:43:28.249425Z",
     "iopub.status.busy": "2022-12-05T16:43:28.249109Z",
     "iopub.status.idle": "2022-12-05T16:43:28.255239Z",
     "shell.execute_reply": "2022-12-05T16:43:28.254188Z",
     "shell.execute_reply.started": "2022-12-05T16:43:28.249397Z"
    },
    "id": "540a2307"
   },
   "outputs": [],
   "source": [
    "from sklearn.model_selection import train_test_split\n",
    "from sklearn.metrics import classification_report\n",
    "from sklearn.preprocessing import LabelEncoder"
   ]
  },
  {
   "cell_type": "code",
   "execution_count": 90,
   "id": "5ae30fc5",
   "metadata": {
    "execution": {
     "iopub.execute_input": "2022-12-05T16:43:28.258907Z",
     "iopub.status.busy": "2022-12-05T16:43:28.258545Z",
     "iopub.status.idle": "2022-12-05T16:43:28.266617Z",
     "shell.execute_reply": "2022-12-05T16:43:28.265435Z",
     "shell.execute_reply.started": "2022-12-05T16:43:28.258879Z"
    },
    "id": "3bd9aa2c"
   },
   "outputs": [],
   "source": [
    "import warnings\n",
    "warnings.filterwarnings('ignore')"
   ]
  },
  {
   "cell_type": "code",
   "execution_count": 91,
   "id": "64b14997",
   "metadata": {
    "execution": {
     "iopub.execute_input": "2022-12-05T16:43:28.268164Z",
     "iopub.status.busy": "2022-12-05T16:43:28.267797Z",
     "iopub.status.idle": "2022-12-05T16:43:28.278713Z",
     "shell.execute_reply": "2022-12-05T16:43:28.277360Z",
     "shell.execute_reply.started": "2022-12-05T16:43:28.268135Z"
    },
    "id": "9551ec4b"
   },
   "outputs": [],
   "source": [
    "import keras\n",
    "from keras_preprocessing.sequence import pad_sequences\n",
    "from keras.models import Sequential\n",
    "from keras.layers import Dense,Embedding,LSTM,Dropout\n",
    "from keras.preprocessing.text import Tokenizer\n",
    "from keras.utils import np_utils\n",
    "from keras import callbacks\n",
    "from keras.callbacks import EarlyStopping"
   ]
  },
  {
   "cell_type": "code",
   "execution_count": 92,
   "id": "21c313bf",
   "metadata": {
    "execution": {
     "iopub.execute_input": "2022-12-05T16:43:28.280573Z",
     "iopub.status.busy": "2022-12-05T16:43:28.280197Z",
     "iopub.status.idle": "2022-12-05T16:43:28.292424Z",
     "shell.execute_reply": "2022-12-05T16:43:28.291364Z",
     "shell.execute_reply.started": "2022-12-05T16:43:28.280538Z"
    }
   },
   "outputs": [],
   "source": [
    "from bs4 import BeautifulSoup"
   ]
  },
  {
   "cell_type": "code",
   "execution_count": 93,
   "id": "9b697db4",
   "metadata": {
    "execution": {
     "iopub.execute_input": "2022-12-05T16:43:28.294729Z",
     "iopub.status.busy": "2022-12-05T16:43:28.294274Z",
     "iopub.status.idle": "2022-12-05T16:43:28.305547Z",
     "shell.execute_reply": "2022-12-05T16:43:28.304560Z",
     "shell.execute_reply.started": "2022-12-05T16:43:28.294696Z"
    }
   },
   "outputs": [
    {
     "name": "stderr",
     "output_type": "stream",
     "text": [
      "[nltk_data] Downloading package stopwords to /usr/share/nltk_data...\n",
      "[nltk_data]   Package stopwords is already up-to-date!\n"
     ]
    }
   ],
   "source": [
    "nltk.download('stopwords')\n",
    "from nltk.corpus import stopwords"
   ]
  },
  {
   "cell_type": "markdown",
   "id": "83155e56",
   "metadata": {},
   "source": [
    "## 2.Loading the Dataset"
   ]
  },
  {
   "cell_type": "code",
   "execution_count": 94,
   "id": "56b2c212",
   "metadata": {
    "colab": {
     "base_uri": "https://localhost:8080/"
    },
    "execution": {
     "iopub.execute_input": "2022-12-05T16:43:28.307309Z",
     "iopub.status.busy": "2022-12-05T16:43:28.306977Z",
     "iopub.status.idle": "2022-12-05T16:43:28.328676Z",
     "shell.execute_reply": "2022-12-05T16:43:28.327102Z",
     "shell.execute_reply.started": "2022-12-05T16:43:28.307264Z"
    },
    "id": "QCDNoR4c1K5P",
    "outputId": "bcd9545a-9c5e-4468-fe4b-3b05f56b08f9"
   },
   "outputs": [
    {
     "name": "stdout",
     "output_type": "stream",
     "text": [
      "/kaggle/input/financial-sentiment-analysis/data.csv\n"
     ]
    }
   ],
   "source": [
    "import os\n",
    "for dirname, _, filenames in os.walk('/kaggle/input'):\n",
    "    for filename in filenames:\n",
    "        print(os.path.join(dirname, filename))"
   ]
  },
  {
   "cell_type": "code",
   "execution_count": 95,
   "id": "abe54cf0",
   "metadata": {
    "colab": {
     "base_uri": "https://localhost:8080/"
    },
    "execution": {
     "iopub.execute_input": "2022-12-05T16:43:28.330261Z",
     "iopub.status.busy": "2022-12-05T16:43:28.329966Z",
     "iopub.status.idle": "2022-12-05T16:43:28.350684Z",
     "shell.execute_reply": "2022-12-05T16:43:28.349647Z",
     "shell.execute_reply.started": "2022-12-05T16:43:28.330234Z"
    },
    "id": "4009c5b1",
    "outputId": "a035a3ad-9db2-493e-d941-6206a06e6b5a"
   },
   "outputs": [
    {
     "data": {
      "text/plain": [
       "(5842, 2)"
      ]
     },
     "execution_count": 95,
     "metadata": {},
     "output_type": "execute_result"
    }
   ],
   "source": [
    "df=pd.read_csv('/kaggle/input/financial-sentiment-analysis/data.csv')\n",
    "df.shape"
   ]
  },
  {
   "cell_type": "markdown",
   "id": "d1256034",
   "metadata": {},
   "source": [
    "## 3.Checking for Duplicates and Null Values"
   ]
  },
  {
   "cell_type": "code",
   "execution_count": 96,
   "id": "039c93f9",
   "metadata": {
    "colab": {
     "base_uri": "https://localhost:8080/",
     "height": 206
    },
    "execution": {
     "iopub.execute_input": "2022-12-05T16:43:28.352564Z",
     "iopub.status.busy": "2022-12-05T16:43:28.352257Z",
     "iopub.status.idle": "2022-12-05T16:43:28.362331Z",
     "shell.execute_reply": "2022-12-05T16:43:28.361302Z",
     "shell.execute_reply.started": "2022-12-05T16:43:28.352537Z"
    },
    "id": "19748753",
    "outputId": "3ca793c0-b549-4f01-c926-426382be93d7"
   },
   "outputs": [
    {
     "data": {
      "text/html": [
       "<div>\n",
       "<style scoped>\n",
       "    .dataframe tbody tr th:only-of-type {\n",
       "        vertical-align: middle;\n",
       "    }\n",
       "\n",
       "    .dataframe tbody tr th {\n",
       "        vertical-align: top;\n",
       "    }\n",
       "\n",
       "    .dataframe thead th {\n",
       "        text-align: right;\n",
       "    }\n",
       "</style>\n",
       "<table border=\"1\" class=\"dataframe\">\n",
       "  <thead>\n",
       "    <tr style=\"text-align: right;\">\n",
       "      <th></th>\n",
       "      <th>Sentence</th>\n",
       "      <th>Sentiment</th>\n",
       "    </tr>\n",
       "  </thead>\n",
       "  <tbody>\n",
       "    <tr>\n",
       "      <th>0</th>\n",
       "      <td>The GeoSolutions technology will leverage Bene...</td>\n",
       "      <td>positive</td>\n",
       "    </tr>\n",
       "    <tr>\n",
       "      <th>1</th>\n",
       "      <td>$ESI on lows, down $1.50 to $2.50 BK a real po...</td>\n",
       "      <td>negative</td>\n",
       "    </tr>\n",
       "    <tr>\n",
       "      <th>2</th>\n",
       "      <td>For the last quarter of 2010 , Componenta 's n...</td>\n",
       "      <td>positive</td>\n",
       "    </tr>\n",
       "    <tr>\n",
       "      <th>3</th>\n",
       "      <td>According to the Finnish-Russian Chamber of Co...</td>\n",
       "      <td>neutral</td>\n",
       "    </tr>\n",
       "    <tr>\n",
       "      <th>4</th>\n",
       "      <td>The Swedish buyout firm has sold its remaining...</td>\n",
       "      <td>neutral</td>\n",
       "    </tr>\n",
       "  </tbody>\n",
       "</table>\n",
       "</div>"
      ],
      "text/plain": [
       "                                            Sentence Sentiment\n",
       "0  The GeoSolutions technology will leverage Bene...  positive\n",
       "1  $ESI on lows, down $1.50 to $2.50 BK a real po...  negative\n",
       "2  For the last quarter of 2010 , Componenta 's n...  positive\n",
       "3  According to the Finnish-Russian Chamber of Co...   neutral\n",
       "4  The Swedish buyout firm has sold its remaining...   neutral"
      ]
     },
     "execution_count": 96,
     "metadata": {},
     "output_type": "execute_result"
    }
   ],
   "source": [
    "df.head()"
   ]
  },
  {
   "cell_type": "code",
   "execution_count": 97,
   "id": "23a2018f",
   "metadata": {
    "colab": {
     "base_uri": "https://localhost:8080/"
    },
    "execution": {
     "iopub.execute_input": "2022-12-05T16:43:28.404564Z",
     "iopub.status.busy": "2022-12-05T16:43:28.404103Z",
     "iopub.status.idle": "2022-12-05T16:43:28.416290Z",
     "shell.execute_reply": "2022-12-05T16:43:28.414644Z",
     "shell.execute_reply.started": "2022-12-05T16:43:28.404525Z"
    },
    "id": "db8bc03f",
    "outputId": "77691a10-5b3b-49d9-b486-5d6c24e52435"
   },
   "outputs": [
    {
     "data": {
      "text/plain": [
       "Sentence     0\n",
       "Sentiment    0\n",
       "dtype: int64"
      ]
     },
     "execution_count": 97,
     "metadata": {},
     "output_type": "execute_result"
    }
   ],
   "source": [
    "df.isnull().sum()"
   ]
  },
  {
   "cell_type": "code",
   "execution_count": 98,
   "id": "dd93df25",
   "metadata": {
    "colab": {
     "base_uri": "https://localhost:8080/"
    },
    "execution": {
     "iopub.execute_input": "2022-12-05T16:43:28.418858Z",
     "iopub.status.busy": "2022-12-05T16:43:28.418486Z",
     "iopub.status.idle": "2022-12-05T16:43:28.432412Z",
     "shell.execute_reply": "2022-12-05T16:43:28.431490Z",
     "shell.execute_reply.started": "2022-12-05T16:43:28.418827Z"
    },
    "id": "7c6e27ac",
    "outputId": "6c319593-4243-42d0-d6c7-09a85e45c3ad"
   },
   "outputs": [
    {
     "data": {
      "text/plain": [
       "6"
      ]
     },
     "execution_count": 98,
     "metadata": {},
     "output_type": "execute_result"
    }
   ],
   "source": [
    "sum(df.duplicated())"
   ]
  },
  {
   "cell_type": "code",
   "execution_count": 99,
   "id": "14115a56",
   "metadata": {
    "execution": {
     "iopub.execute_input": "2022-12-05T16:43:28.433967Z",
     "iopub.status.busy": "2022-12-05T16:43:28.433677Z",
     "iopub.status.idle": "2022-12-05T16:43:28.443477Z",
     "shell.execute_reply": "2022-12-05T16:43:28.442269Z",
     "shell.execute_reply.started": "2022-12-05T16:43:28.433942Z"
    },
    "id": "9b5313a2"
   },
   "outputs": [],
   "source": [
    "df=df.drop_duplicates()"
   ]
  },
  {
   "cell_type": "code",
   "execution_count": 100,
   "id": "36e8295d",
   "metadata": {
    "colab": {
     "base_uri": "https://localhost:8080/"
    },
    "execution": {
     "iopub.execute_input": "2022-12-05T16:43:28.445211Z",
     "iopub.status.busy": "2022-12-05T16:43:28.444751Z",
     "iopub.status.idle": "2022-12-05T16:43:28.452549Z",
     "shell.execute_reply": "2022-12-05T16:43:28.450670Z",
     "shell.execute_reply.started": "2022-12-05T16:43:28.445185Z"
    },
    "id": "fabda7c2",
    "outputId": "b5c1698c-60e6-49e8-c217-184927296440"
   },
   "outputs": [
    {
     "data": {
      "text/plain": [
       "(5836, 2)"
      ]
     },
     "execution_count": 100,
     "metadata": {},
     "output_type": "execute_result"
    }
   ],
   "source": [
    "df.shape"
   ]
  },
  {
   "cell_type": "code",
   "execution_count": 101,
   "id": "10a0e39d",
   "metadata": {
    "colab": {
     "base_uri": "https://localhost:8080/",
     "height": 279
    },
    "execution": {
     "iopub.execute_input": "2022-12-05T16:43:28.456580Z",
     "iopub.status.busy": "2022-12-05T16:43:28.456233Z",
     "iopub.status.idle": "2022-12-05T16:43:28.580766Z",
     "shell.execute_reply": "2022-12-05T16:43:28.579999Z",
     "shell.execute_reply.started": "2022-12-05T16:43:28.456551Z"
    },
    "id": "78a458dc",
    "outputId": "00601068-e14c-48ff-86ab-eb333a262a93"
   },
   "outputs": [
    {
     "data": {
      "image/png": "[encoded data removed]",
      "text/plain": [
       "<Figure size 432x288 with 1 Axes>"
      ]
     },
     "metadata": {
      "needs_background": "light"
     },
     "output_type": "display_data"
    }
   ],
   "source": [
    "sns.countplot(x='Sentiment',data=df)\n",
    "plt.show()"
   ]
  },
  {
   "cell_type": "markdown",
   "id": "202067bb",
   "metadata": {
    "id": "b097a487"
   },
   "source": [
    "Now, let's prepare the data for sentiment analysis"
   ]
  },
  {
   "cell_type": "markdown",
   "id": "6770b1a4",
   "metadata": {},
   "source": [
    "## 4.Text Processing for Sentiment Analysis"
   ]
  },
  {
   "cell_type": "code",
   "execution_count": 102,
   "id": "24a9072d",
   "metadata": {
    "execution": {
     "iopub.execute_input": "2022-12-05T16:43:28.582610Z",
     "iopub.status.busy": "2022-12-05T16:43:28.582025Z",
     "iopub.status.idle": "2022-12-05T16:43:28.589796Z",
     "shell.execute_reply": "2022-12-05T16:43:28.588893Z",
     "shell.execute_reply.started": "2022-12-05T16:43:28.582580Z"
    },
    "id": "5e42c15b"
   },
   "outputs": [],
   "source": [
    "#Removal of HTML contents:\n",
    "def remove_html(text):\n",
    "    soup=BeautifulSoup(text,'html.parser')\n",
    "    return soup.get_text()\n",
    "\n",
    "#Removal of Punctuation Marks:\n",
    "def remove_punctuations(text):\n",
    "    return re.sub('\\[[^]]*\\]','',text)\n",
    "    \n",
    "#Removal of special characters:\n",
    "def remove_characters(text):\n",
    "    return re.sub('[^a-zA-Z]',' ',text)\n",
    "\n",
    "#Removal of stopwords:\n",
    "def remove_stopwords_lemmatization(text):\n",
    "    final_text=[]\n",
    "    text=text.lower()\n",
    "    text=nltk.word_tokenize(text)\n",
    "    \n",
    "    for word in text:\n",
    "        if word not in set(stopwords.words('english')):\n",
    "            lemma=nltk.WordNetLemmatizer()\n",
    "            word=lemma.lemmatize(word)\n",
    "            final_text.append(word)\n",
    "    return ' '.join(final_text)                  "
   ]
  },
  {
   "cell_type": "code",
   "execution_count": 103,
   "id": "82d4910d",
   "metadata": {
    "execution": {
     "iopub.execute_input": "2022-12-05T16:43:28.591860Z",
     "iopub.status.busy": "2022-12-05T16:43:28.591149Z",
     "iopub.status.idle": "2022-12-05T16:43:43.627541Z",
     "shell.execute_reply": "2022-12-05T16:43:43.626606Z",
     "shell.execute_reply.started": "2022-12-05T16:43:28.591827Z"
    },
    "id": "8bbad836"
   },
   "outputs": [],
   "source": [
    "def cleaning(text):\n",
    "    text=remove_html(text)\n",
    "    text=remove_punctuations(text)\n",
    "    text=remove_characters(text)\n",
    "    text=remove_stopwords_lemmatization(text)\n",
    "    return text\n",
    "\n",
    "#Applying the function\n",
    "df['Sentence']=df['Sentence'].apply(cleaning)"
   ]
  },
  {
   "cell_type": "code",
   "execution_count": 104,
   "id": "88fe78c3",
   "metadata": {
    "colab": {
     "base_uri": "https://localhost:8080/",
     "height": 206
    },
    "execution": {
     "iopub.execute_input": "2022-12-05T16:43:43.629481Z",
     "iopub.status.busy": "2022-12-05T16:43:43.628862Z",
     "iopub.status.idle": "2022-12-05T16:43:43.640537Z",
     "shell.execute_reply": "2022-12-05T16:43:43.639186Z",
     "shell.execute_reply.started": "2022-12-05T16:43:43.629445Z"
    },
    "id": "d1edd752",
    "outputId": "b0178b49-682c-448d-dd63-0b1807ed423a"
   },
   "outputs": [
    {
     "data": {
      "text/html": [
       "<div>\n",
       "<style scoped>\n",
       "    .dataframe tbody tr th:only-of-type {\n",
       "        vertical-align: middle;\n",
       "    }\n",
       "\n",
       "    .dataframe tbody tr th {\n",
       "        vertical-align: top;\n",
       "    }\n",
       "\n",
       "    .dataframe thead th {\n",
       "        text-align: right;\n",
       "    }\n",
       "</style>\n",
       "<table border=\"1\" class=\"dataframe\">\n",
       "  <thead>\n",
       "    <tr style=\"text-align: right;\">\n",
       "      <th></th>\n",
       "      <th>Sentence</th>\n",
       "      <th>Sentiment</th>\n",
       "    </tr>\n",
       "  </thead>\n",
       "  <tbody>\n",
       "    <tr>\n",
       "      <th>0</th>\n",
       "      <td>geosolutions technology leverage benefon gps s...</td>\n",
       "      <td>positive</td>\n",
       "    </tr>\n",
       "    <tr>\n",
       "      <th>1</th>\n",
       "      <td>esi low bk real possibility</td>\n",
       "      <td>negative</td>\n",
       "    </tr>\n",
       "    <tr>\n",
       "      <th>2</th>\n",
       "      <td>last quarter componenta net sale doubled eur e...</td>\n",
       "      <td>positive</td>\n",
       "    </tr>\n",
       "    <tr>\n",
       "      <th>3</th>\n",
       "      <td>according finnish russian chamber commerce maj...</td>\n",
       "      <td>neutral</td>\n",
       "    </tr>\n",
       "    <tr>\n",
       "      <th>4</th>\n",
       "      <td>swedish buyout firm sold remaining percent sta...</td>\n",
       "      <td>neutral</td>\n",
       "    </tr>\n",
       "  </tbody>\n",
       "</table>\n",
       "</div>"
      ],
      "text/plain": [
       "                                            Sentence Sentiment\n",
       "0  geosolutions technology leverage benefon gps s...  positive\n",
       "1                        esi low bk real possibility  negative\n",
       "2  last quarter componenta net sale doubled eur e...  positive\n",
       "3  according finnish russian chamber commerce maj...   neutral\n",
       "4  swedish buyout firm sold remaining percent sta...   neutral"
      ]
     },
     "execution_count": 104,
     "metadata": {},
     "output_type": "execute_result"
    }
   ],
   "source": [
    "df.head()"
   ]
  },
  {
   "cell_type": "markdown",
   "id": "d037a332",
   "metadata": {},
   "source": [
    "## 5.Splitting into X and y"
   ]
  },
  {
   "cell_type": "code",
   "execution_count": 105,
   "id": "fc2f9e95",
   "metadata": {
    "execution": {
     "iopub.execute_input": "2022-12-05T16:43:43.642589Z",
     "iopub.status.busy": "2022-12-05T16:43:43.642298Z",
     "iopub.status.idle": "2022-12-05T16:43:43.651191Z",
     "shell.execute_reply": "2022-12-05T16:43:43.650050Z",
     "shell.execute_reply.started": "2022-12-05T16:43:43.642564Z"
    },
    "id": "3be30d4b"
   },
   "outputs": [],
   "source": [
    "X=df['Sentence']\n",
    "y=df['Sentiment']"
   ]
  },
  {
   "cell_type": "code",
   "execution_count": 106,
   "id": "25adc115",
   "metadata": {
    "execution": {
     "iopub.execute_input": "2022-12-05T16:43:43.654214Z",
     "iopub.status.busy": "2022-12-05T16:43:43.653508Z",
     "iopub.status.idle": "2022-12-05T16:43:43.866696Z",
     "shell.execute_reply": "2022-12-05T16:43:43.865025Z",
     "shell.execute_reply.started": "2022-12-05T16:43:43.654179Z"
    },
    "id": "dfc68e60"
   },
   "outputs": [],
   "source": [
    "tokenizer = Tokenizer(num_words=1000, split=' ') \n",
    "tokenizer.fit_on_texts(X)\n",
    "X= tokenizer.texts_to_sequences(X)\n",
    "X= pad_sequences(X)"
   ]
  },
  {
   "cell_type": "code",
   "execution_count": 107,
   "id": "8afc03a0",
   "metadata": {
    "colab": {
     "base_uri": "https://localhost:8080/"
    },
    "execution": {
     "iopub.execute_input": "2022-12-05T16:43:43.868918Z",
     "iopub.status.busy": "2022-12-05T16:43:43.868561Z",
     "iopub.status.idle": "2022-12-05T16:43:43.877533Z",
     "shell.execute_reply": "2022-12-05T16:43:43.876276Z",
     "shell.execute_reply.started": "2022-12-05T16:43:43.868887Z"
    },
    "id": "5b227dba",
    "outputId": "a4107d97-28c2-4e37-8725-79a28973d55a"
   },
   "outputs": [
    {
     "data": {
      "text/plain": [
       "array([[  0,   0,   0, ...,  21, 459, 265],\n",
       "       [  0,   0,   0, ...,   0, 251, 137],\n",
       "       [  0,   0,   0, ..., 197,  27,   1],\n",
       "       ...,\n",
       "       [  0,   0,   0, ..., 303,  48, 842],\n",
       "       [  0,   0,   0, ...,  51,   1,   3],\n",
       "       [  0,   0,   0, ..., 641, 164, 167]], dtype=int32)"
      ]
     },
     "execution_count": 107,
     "metadata": {},
     "output_type": "execute_result"
    }
   ],
   "source": [
    "X"
   ]
  },
  {
   "cell_type": "code",
   "execution_count": 108,
   "id": "715fd34c",
   "metadata": {
    "execution": {
     "iopub.execute_input": "2022-12-05T16:43:43.879075Z",
     "iopub.status.busy": "2022-12-05T16:43:43.878666Z",
     "iopub.status.idle": "2022-12-05T16:43:43.889260Z",
     "shell.execute_reply": "2022-12-05T16:43:43.887597Z",
     "shell.execute_reply.started": "2022-12-05T16:43:43.879044Z"
    }
   },
   "outputs": [],
   "source": [
    "le=LabelEncoder()\n",
    "y=le.fit_transform(y)"
   ]
  },
  {
   "cell_type": "code",
   "execution_count": 109,
   "id": "9226613a",
   "metadata": {
    "execution": {
     "iopub.execute_input": "2022-12-05T16:43:43.891492Z",
     "iopub.status.busy": "2022-12-05T16:43:43.891028Z",
     "iopub.status.idle": "2022-12-05T16:43:43.903366Z",
     "shell.execute_reply": "2022-12-05T16:43:43.902640Z",
     "shell.execute_reply.started": "2022-12-05T16:43:43.891455Z"
    }
   },
   "outputs": [
    {
     "data": {
      "text/plain": [
       "array([2, 0, 2, ..., 1, 1, 2])"
      ]
     },
     "execution_count": 109,
     "metadata": {},
     "output_type": "execute_result"
    }
   ],
   "source": [
    "y"
   ]
  },
  {
   "cell_type": "code",
   "execution_count": 110,
   "id": "ca9f39d1",
   "metadata": {
    "execution": {
     "iopub.execute_input": "2022-12-05T16:43:43.907485Z",
     "iopub.status.busy": "2022-12-05T16:43:43.907125Z",
     "iopub.status.idle": "2022-12-05T16:43:43.915988Z",
     "shell.execute_reply": "2022-12-05T16:43:43.914981Z",
     "shell.execute_reply.started": "2022-12-05T16:43:43.907454Z"
    }
   },
   "outputs": [],
   "source": [
    "y=pd.get_dummies(y)"
   ]
  },
  {
   "cell_type": "code",
   "execution_count": 111,
   "id": "6cd96286",
   "metadata": {
    "colab": {
     "base_uri": "https://localhost:8080/"
    },
    "execution": {
     "iopub.execute_input": "2022-12-05T16:43:43.917977Z",
     "iopub.status.busy": "2022-12-05T16:43:43.917527Z",
     "iopub.status.idle": "2022-12-05T16:43:43.929610Z",
     "shell.execute_reply": "2022-12-05T16:43:43.928369Z",
     "shell.execute_reply.started": "2022-12-05T16:43:43.917944Z"
    },
    "id": "4a5bbb5f",
    "outputId": "f35d1c3d-bf6c-4f7a-dc6c-7fcdfd1472f1"
   },
   "outputs": [
    {
     "data": {
      "text/plain": [
       "((5836, 32), 32)"
      ]
     },
     "execution_count": 111,
     "metadata": {},
     "output_type": "execute_result"
    }
   ],
   "source": [
    "X.shape,X.shape[1]"
   ]
  },
  {
   "cell_type": "code",
   "execution_count": 112,
   "id": "86eec93d",
   "metadata": {
    "execution": {
     "iopub.execute_input": "2022-12-05T16:43:43.931614Z",
     "iopub.status.busy": "2022-12-05T16:43:43.931202Z",
     "iopub.status.idle": "2022-12-05T16:43:43.942632Z",
     "shell.execute_reply": "2022-12-05T16:43:43.941602Z",
     "shell.execute_reply.started": "2022-12-05T16:43:43.931535Z"
    }
   },
   "outputs": [
    {
     "data": {
      "text/plain": [
       "((5836, 32), (5836, 3))"
      ]
     },
     "execution_count": 112,
     "metadata": {},
     "output_type": "execute_result"
    }
   ],
   "source": [
    "X.shape,y.shape"
   ]
  },
  {
   "cell_type": "markdown",
   "id": "dbb1c1a4",
   "metadata": {},
   "source": [
    "## 6. Train and Test Split"
   ]
  },
  {
   "cell_type": "code",
   "execution_count": 113,
   "id": "2a2f94a2",
   "metadata": {
    "execution": {
     "iopub.execute_input": "2022-12-05T16:43:43.944702Z",
     "iopub.status.busy": "2022-12-05T16:43:43.944282Z",
     "iopub.status.idle": "2022-12-05T16:43:43.956354Z",
     "shell.execute_reply": "2022-12-05T16:43:43.954739Z",
     "shell.execute_reply.started": "2022-12-05T16:43:43.944671Z"
    }
   },
   "outputs": [],
   "source": [
    "X_train,X_test,y_train,y_test=train_test_split(X,y,test_size=0.15,random_state=1)"
   ]
  },
  {
   "cell_type": "code",
   "execution_count": 114,
   "id": "0f429afa",
   "metadata": {
    "execution": {
     "iopub.execute_input": "2022-12-05T16:43:43.957822Z",
     "iopub.status.busy": "2022-12-05T16:43:43.957395Z",
     "iopub.status.idle": "2022-12-05T16:43:43.967014Z",
     "shell.execute_reply": "2022-12-05T16:43:43.966081Z",
     "shell.execute_reply.started": "2022-12-05T16:43:43.957764Z"
    }
   },
   "outputs": [
    {
     "data": {
      "text/plain": [
       "((4960, 32), (876, 32), (4960, 3), (876, 3))"
      ]
     },
     "execution_count": 114,
     "metadata": {},
     "output_type": "execute_result"
    }
   ],
   "source": [
    "X_train.shape,X_test.shape,y_train.shape,y_test.shape"
   ]
  },
  {
   "cell_type": "markdown",
   "id": "91123e10",
   "metadata": {},
   "source": [
    "## 7.Model Building and Prediction"
   ]
  },
  {
   "cell_type": "code",
   "execution_count": 115,
   "id": "13338d13",
   "metadata": {
    "execution": {
     "iopub.execute_input": "2022-12-05T16:43:43.968442Z",
     "iopub.status.busy": "2022-12-05T16:43:43.968057Z",
     "iopub.status.idle": "2022-12-05T16:43:43.978018Z",
     "shell.execute_reply": "2022-12-05T16:43:43.976507Z",
     "shell.execute_reply.started": "2022-12-05T16:43:43.968395Z"
    }
   },
   "outputs": [],
   "source": [
    "from warnings import filterwarnings\n",
    "filterwarnings('ignore')"
   ]
  },
  {
   "cell_type": "code",
   "execution_count": 116,
   "id": "b4e2beae",
   "metadata": {
    "execution": {
     "iopub.execute_input": "2022-12-05T16:43:43.979604Z",
     "iopub.status.busy": "2022-12-05T16:43:43.979141Z",
     "iopub.status.idle": "2022-12-05T16:43:43.992505Z",
     "shell.execute_reply": "2022-12-05T16:43:43.991349Z",
     "shell.execute_reply.started": "2022-12-05T16:43:43.979562Z"
    },
    "id": "49bfc3a2"
   },
   "outputs": [],
   "source": [
    "model=Sequential()"
   ]
  },
  {
   "cell_type": "code",
   "execution_count": 117,
   "id": "bea30772",
   "metadata": {
    "colab": {
     "base_uri": "https://localhost:8080/"
    },
    "execution": {
     "iopub.execute_input": "2022-12-05T16:43:43.993878Z",
     "iopub.status.busy": "2022-12-05T16:43:43.993490Z",
     "iopub.status.idle": "2022-12-05T16:43:44.222802Z",
     "shell.execute_reply": "2022-12-05T16:43:44.221841Z",
     "shell.execute_reply.started": "2022-12-05T16:43:43.993826Z"
    },
    "id": "8ca9f930",
    "outputId": "8d4c79d5-10f7-4542-d9be-be4482160eaf"
   },
   "outputs": [],
   "source": [
    "model.add(Embedding(1000,120,input_length=X.shape[1]))\n",
    "model.add(LSTM(128,dropout=0.2,recurrent_dropout=0.2,return_sequences=True))\n",
    "model.add(LSTM(64,dropout = 0.1,recurrent_dropout = 0.1))\n",
    "model.add(Dense(32,activation = 'relu'))\n",
    "model.add(Dense(3,activation='softmax'))\n",
    "model.compile(optimizer='adam', loss='categorical_crossentropy', metrics=['accuracy'])"
   ]
  },
  {
   "cell_type": "code",
   "execution_count": 118,
   "id": "a07c3947",
   "metadata": {
    "colab": {
     "base_uri": "https://localhost:8080/"
    },
    "execution": {
     "iopub.execute_input": "2022-12-05T16:43:44.225097Z",
     "iopub.status.busy": "2022-12-05T16:43:44.224646Z",
     "iopub.status.idle": "2022-12-05T16:43:44.231887Z",
     "shell.execute_reply": "2022-12-05T16:43:44.231144Z",
     "shell.execute_reply.started": "2022-12-05T16:43:44.225061Z"
    },
    "id": "676c8ec4",
    "outputId": "37161314-c278-4e95-99b7-6b51d539b5fa"
   },
   "outputs": [
    {
     "name": "stdout",
     "output_type": "stream",
     "text": [
      "Model: \"sequential_3\"\n",
      "_________________________________________________________________\n",
      "Layer (type)                 Output Shape              Param #   \n",
      "=================================================================\n",
      "embedding_7 (Embedding)      (None, 32, 120)           120000    \n",
      "_________________________________________________________________\n",
      "lstm_8 (LSTM)                (None, 32, 128)           127488    \n",
      "_________________________________________________________________\n",
      "lstm_9 (LSTM)                (None, 64)                49408     \n",
      "_________________________________________________________________\n",
      "dense_6 (Dense)              (None, 32)                2080      \n",
      "_________________________________________________________________\n",
      "dense_7 (Dense)              (None, 3)                 99        \n",
      "=================================================================\n",
      "Total params: 299,075\n",
      "Trainable params: 299,075\n",
      "Non-trainable params: 0\n",
      "_________________________________________________________________\n"
     ]
    }
   ],
   "source": [
    "model.summary()"
   ]
  },
  {
   "cell_type": "code",
   "execution_count": 119,
   "id": "da68bada",
   "metadata": {
    "execution": {
     "iopub.execute_input": "2022-12-05T16:43:44.233194Z",
     "iopub.status.busy": "2022-12-05T16:43:44.232919Z",
     "iopub.status.idle": "2022-12-05T16:43:44.243125Z",
     "shell.execute_reply": "2022-12-05T16:43:44.241997Z",
     "shell.execute_reply.started": "2022-12-05T16:43:44.233165Z"
    },
    "id": "XP8PqTW553nn"
   },
   "outputs": [],
   "source": [
    "earlystopping=EarlyStopping(monitor='loss',patience=3)"
   ]
  },
  {
   "cell_type": "code",
   "execution_count": 120,
   "id": "6bbb7615",
   "metadata": {
    "execution": {
     "iopub.execute_input": "2022-12-05T16:43:44.244897Z",
     "iopub.status.busy": "2022-12-05T16:43:44.244576Z",
     "iopub.status.idle": "2022-12-05T16:43:44.254845Z",
     "shell.execute_reply": "2022-12-05T16:43:44.253576Z",
     "shell.execute_reply.started": "2022-12-05T16:43:44.244870Z"
    }
   },
   "outputs": [],
   "source": [
    "from warnings import filterwarnings\n",
    "filterwarnings('ignore')"
   ]
  },
  {
   "cell_type": "code",
   "execution_count": 121,
   "id": "9d8a3670",
   "metadata": {
    "colab": {
     "base_uri": "https://localhost:8080/"
    },
    "execution": {
     "iopub.execute_input": "2022-12-05T16:43:44.256447Z",
     "iopub.status.busy": "2022-12-05T16:43:44.256132Z",
     "iopub.status.idle": "2022-12-05T17:08:00.681365Z",
     "shell.execute_reply": "2022-12-05T17:08:00.680167Z",
     "shell.execute_reply.started": "2022-12-05T16:43:44.256420Z"
    },
    "id": "33c75a01",
    "outputId": "8eb38d8b-9fef-45b4-a007-6a7b8521a320"
   },
   "outputs": [
    {
     "name": "stdout",
     "output_type": "stream",
     "text": [
      "Epoch 1/100\n",
      "310/310 [==============================] - 51s 156ms/step - loss: 0.8846 - accuracy: 0.6089 - val_loss: 0.6874 - val_accuracy: 0.7101\n",
      "Epoch 2/100\n",
      "310/310 [==============================] - 48s 156ms/step - loss: 0.6723 - accuracy: 0.7101 - val_loss: 0.5692 - val_accuracy: 0.7694\n",
      "Epoch 3/100\n",
      "310/310 [==============================] - 48s 156ms/step - loss: 0.5886 - accuracy: 0.7405 - val_loss: 0.4913 - val_accuracy: 0.7931\n",
      "Epoch 4/100\n",
      "310/310 [==============================] - 48s 154ms/step - loss: 0.5166 - accuracy: 0.7631 - val_loss: 0.4552 - val_accuracy: 0.7867\n",
      "Epoch 5/100\n",
      "310/310 [==============================] - 48s 155ms/step - loss: 0.4833 - accuracy: 0.7746 - val_loss: 0.4121 - val_accuracy: 0.8062\n",
      "Epoch 6/100\n",
      "310/310 [==============================] - 50s 161ms/step - loss: 0.4383 - accuracy: 0.7915 - val_loss: 0.3601 - val_accuracy: 0.8290\n",
      "Epoch 7/100\n",
      "310/310 [==============================] - 50s 161ms/step - loss: 0.4108 - accuracy: 0.8079 - val_loss: 0.3307 - val_accuracy: 0.8446\n",
      "Epoch 8/100\n",
      "310/310 [==============================] - 49s 159ms/step - loss: 0.3755 - accuracy: 0.8248 - val_loss: 0.3069 - val_accuracy: 0.8494\n",
      "Epoch 9/100\n",
      "310/310 [==============================] - 50s 162ms/step - loss: 0.3406 - accuracy: 0.8302 - val_loss: 0.2887 - val_accuracy: 0.8544\n",
      "Epoch 10/100\n",
      "310/310 [==============================] - 48s 155ms/step - loss: 0.3253 - accuracy: 0.8347 - val_loss: 0.2593 - val_accuracy: 0.8696\n",
      "Epoch 11/100\n",
      "310/310 [==============================] - 49s 157ms/step - loss: 0.2918 - accuracy: 0.8542 - val_loss: 0.2330 - val_accuracy: 0.8772\n",
      "Epoch 12/100\n",
      "310/310 [==============================] - 48s 155ms/step - loss: 0.2683 - accuracy: 0.8635 - val_loss: 0.2249 - val_accuracy: 0.8819\n",
      "Epoch 13/100\n",
      "310/310 [==============================] - 48s 156ms/step - loss: 0.2675 - accuracy: 0.8562 - val_loss: 0.2303 - val_accuracy: 0.8813\n",
      "Epoch 14/100\n",
      "310/310 [==============================] - 48s 156ms/step - loss: 0.2419 - accuracy: 0.8728 - val_loss: 0.2060 - val_accuracy: 0.8849\n",
      "Epoch 15/100\n",
      "310/310 [==============================] - 49s 157ms/step - loss: 0.2385 - accuracy: 0.8677 - val_loss: 0.1965 - val_accuracy: 0.8915\n",
      "Epoch 16/100\n",
      "310/310 [==============================] - 49s 158ms/step - loss: 0.2325 - accuracy: 0.8692 - val_loss: 0.1970 - val_accuracy: 0.8881\n",
      "Epoch 17/100\n",
      "310/310 [==============================] - 47s 153ms/step - loss: 0.2223 - accuracy: 0.8790 - val_loss: 0.1894 - val_accuracy: 0.8915\n",
      "Epoch 18/100\n",
      "310/310 [==============================] - 48s 155ms/step - loss: 0.2024 - accuracy: 0.8841 - val_loss: 0.1706 - val_accuracy: 0.9012\n",
      "Epoch 19/100\n",
      "310/310 [==============================] - 48s 154ms/step - loss: 0.2077 - accuracy: 0.8794 - val_loss: 0.1821 - val_accuracy: 0.8966\n",
      "Epoch 20/100\n",
      "310/310 [==============================] - 48s 155ms/step - loss: 0.1928 - accuracy: 0.8873 - val_loss: 0.1869 - val_accuracy: 0.8931\n",
      "Epoch 21/100\n",
      "310/310 [==============================] - 49s 159ms/step - loss: 0.1933 - accuracy: 0.8869 - val_loss: 0.1741 - val_accuracy: 0.8942\n",
      "Epoch 22/100\n",
      "310/310 [==============================] - 49s 157ms/step - loss: 0.1813 - accuracy: 0.8899 - val_loss: 0.1632 - val_accuracy: 0.9030\n",
      "Epoch 23/100\n",
      "310/310 [==============================] - 49s 158ms/step - loss: 0.1801 - accuracy: 0.8913 - val_loss: 0.1600 - val_accuracy: 0.9024\n",
      "Epoch 24/100\n",
      "310/310 [==============================] - 49s 158ms/step - loss: 0.1859 - accuracy: 0.8909 - val_loss: 0.1582 - val_accuracy: 0.9054\n",
      "Epoch 25/100\n",
      "310/310 [==============================] - 49s 157ms/step - loss: 0.1823 - accuracy: 0.8925 - val_loss: 0.1583 - val_accuracy: 0.9020\n",
      "Epoch 26/100\n",
      "310/310 [==============================] - 48s 156ms/step - loss: 0.1724 - accuracy: 0.8970 - val_loss: 0.1556 - val_accuracy: 0.9044\n",
      "Epoch 27/100\n",
      "310/310 [==============================] - 48s 156ms/step - loss: 0.1697 - accuracy: 0.8990 - val_loss: 0.1858 - val_accuracy: 0.8938\n",
      "Epoch 28/100\n",
      "310/310 [==============================] - 47s 153ms/step - loss: 0.1763 - accuracy: 0.8962 - val_loss: 0.1481 - val_accuracy: 0.9083\n",
      "Epoch 29/100\n",
      "310/310 [==============================] - 47s 153ms/step - loss: 0.1726 - accuracy: 0.8952 - val_loss: 0.1534 - val_accuracy: 0.9056\n",
      "Epoch 30/100\n",
      "310/310 [==============================] - 48s 155ms/step - loss: 0.1830 - accuracy: 0.8927 - val_loss: 0.1465 - val_accuracy: 0.9065\n"
     ]
    }
   ],
   "source": [
    "history=model.fit(X_train,y_train,batch_size=16,validation_data=(X_train,y_train),epochs=100,verbose='auto',callbacks=earlystopping)"
   ]
  },
  {
   "cell_type": "code",
   "execution_count": 122,
   "id": "31a3f75e",
   "metadata": {
    "colab": {
     "base_uri": "https://localhost:8080/"
    },
    "execution": {
     "iopub.execute_input": "2022-12-05T17:08:00.682920Z",
     "iopub.status.busy": "2022-12-05T17:08:00.682579Z",
     "iopub.status.idle": "2022-12-05T17:08:02.120395Z",
     "shell.execute_reply": "2022-12-05T17:08:02.119234Z",
     "shell.execute_reply.started": "2022-12-05T17:08:00.682890Z"
    },
    "id": "0140b623",
    "outputId": "0d608cb3-c414-4e7d-9b00-ec09cc886342"
   },
   "outputs": [],
   "source": [
    "y_pred=model.predict(X_test)"
   ]
  },
  {
   "cell_type": "code",
   "execution_count": 123,
   "id": "a210e2c4",
   "metadata": {
    "execution": {
     "iopub.execute_input": "2022-12-05T17:08:02.125180Z",
     "iopub.status.busy": "2022-12-05T17:08:02.124838Z",
     "iopub.status.idle": "2022-12-05T17:08:02.129950Z",
     "shell.execute_reply": "2022-12-05T17:08:02.128509Z",
     "shell.execute_reply.started": "2022-12-05T17:08:02.125151Z"
    },
    "id": "db6acb8b"
   },
   "outputs": [],
   "source": [
    "y_pred=np.round(y_pred)"
   ]
  },
  {
   "cell_type": "markdown",
   "id": "e41bb3d8",
   "metadata": {},
   "source": [
    "## 8.Model Evaluation"
   ]
  },
  {
   "cell_type": "code",
   "execution_count": 124,
   "id": "d764b97e",
   "metadata": {
    "colab": {
     "base_uri": "https://localhost:8080/"
    },
    "execution": {
     "iopub.execute_input": "2022-12-05T17:08:02.132584Z",
     "iopub.status.busy": "2022-12-05T17:08:02.131860Z",
     "iopub.status.idle": "2022-12-05T17:08:02.158760Z",
     "shell.execute_reply": "2022-12-05T17:08:02.157964Z",
     "shell.execute_reply.started": "2022-12-05T17:08:02.132542Z"
    },
    "id": "63926165",
    "outputId": "a4a9a59a-67e7-4403-819b-b371c80a77df"
   },
   "outputs": [
    {
     "name": "stdout",
     "output_type": "stream",
     "text": [
      "              precision    recall  f1-score   support\n",
      "\n",
      "           0       0.32      0.19      0.24       124\n",
      "           1       0.71      0.78      0.75       485\n",
      "           2       0.67      0.63      0.65       267\n",
      "\n",
      "   micro avg       0.66      0.65      0.66       876\n",
      "   macro avg       0.57      0.54      0.54       876\n",
      "weighted avg       0.64      0.65      0.64       876\n",
      " samples avg       0.65      0.65      0.65       876\n",
      "\n"
     ]
    }
   ],
   "source": [
    "print(classification_report(y_test,y_pred))"
   ]
  },
  {
   "cell_type": "markdown",
   "id": "88ff7f47",
   "metadata": {
    "id": "B3UxK5hU-jRu"
   },
   "source": [
    "We can see that the model is 66% accurate in predicting the sentiments.\n"
   ]
  }
 ],
 "metadata": {
  "accelerator": "GPU",
  "colab": {
   "provenance": []
  },
  "gpuClass": "standard",
  "kernelspec": {
   "display_name": "Python 3 (ipykernel)",
   "language": "python",
   "name": "python3"
  },
  "language_info": {
   "codemirror_mode": {
    "name": "ipython",
    "version": 3
   },
   "file_extension": ".py",
   "mimetype": "text/x-python",
   "name": "python",
   "nbconvert_exporter": "python",
   "pygments_lexer": "ipython3",
   "version": "3.9.12"
  }
 },
 "nbformat": 4,
 "nbformat_minor": 5
}
